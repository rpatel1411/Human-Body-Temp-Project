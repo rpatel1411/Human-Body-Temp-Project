{
 "cells": [
  {
   "cell_type": "markdown",
   "metadata": {},
   "source": [
    "\n",
    "# What is the True Normal Human Body Temperature? \n",
    "\n",
    "#### Background\n",
    "\n",
    "The mean normal body temperature was held to be 37$^{\\circ}$C or 98.6$^{\\circ}$F for more than 120 years since it was first conceptualized and reported by Carl Wunderlich in a famous 1868 book. But, is this value statistically correct?"
   ]
  },
  {
   "cell_type": "markdown",
   "metadata": {},
   "source": [
    "<h3>Exercises</h3>\n",
    "\n",
    "<p>In this exercise, you will analyze a dataset of human body temperatures and employ the concepts of hypothesis testing, confidence intervals, and statistical significance.</p>\n",
    "\n",
    "<p>Answer the following questions <b>in this notebook below and submit to your Github account</b>.</p> \n",
    "\n",
    "<ol>\n",
    "<li>  Is the distribution of body temperatures normal? \n",
    "    <ul>\n",
    "    <li> Although this is not a requirement for the Central Limit Theorem to hold (read the introduction on Wikipedia's page about the CLT carefully: https://en.wikipedia.org/wiki/Central_limit_theorem), it gives us some peace of mind that the population may also be normally distributed if we assume that this sample is representative of the population.\n",
    "    <li> Think about the way you're going to check for the normality of the distribution. Graphical methods are usually used first, but there are also other ways: https://en.wikipedia.org/wiki/Normality_test\n",
    "    </ul>\n",
    "<li>  Is the sample size large? Are the observations independent?\n",
    "    <ul>\n",
    "    <li> Remember that this is a condition for the Central Limit Theorem, and hence the statistical tests we are using, to apply.\n",
    "    </ul>\n",
    "<li>  Is the true population mean really 98.6 degrees F?\n",
    "    <ul>\n",
    "    <li> First, try a bootstrap hypothesis test.\n",
    "    <li> Now, let's try frequentist statistical testing. Would you use a one-sample or two-sample test? Why?\n",
    "    <li> In this situation, is it appropriate to use the $t$ or $z$ statistic? \n",
    "    <li> Now try using the other test. How is the result be different? Why?\n",
    "    </ul>\n",
    "<li>  Draw a small sample of size 10 from the data and repeat both frequentist tests. \n",
    "    <ul>\n",
    "    <li> Which one is the correct one to use? \n",
    "    <li> What do you notice? What does this tell you about the difference in application of the $t$ and $z$ statistic?\n",
    "    </ul>\n",
    "<li>  At what temperature should we consider someone's temperature to be \"abnormal\"?\n",
    "    <ul>\n",
    "    <li> As in the previous example, try calculating everything using the boostrap approach, as well as the frequentist approach.\n",
    "    <li> Start by computing the margin of error and confidence interval. When calculating the confidence interval, keep in mind that you should use the appropriate formula for one draw, and not N draws.\n",
    "    </ul>\n",
    "<li>  Is there a significant difference between males and females in normal temperature?\n",
    "    <ul>\n",
    "    <li> What testing approach did you use and why?\n",
    "    <li> Write a story with your conclusion in the context of the original problem.\n",
    "    </ul>\n",
    "</ol>\n",
    "\n",
    "You can include written notes in notebook cells using Markdown: \n",
    "   - In the control panel at the top, choose Cell > Cell Type > Markdown\n",
    "   - Markdown syntax: http://nestacms.com/docs/creating-content/markdown-cheat-sheet\n",
    "\n",
    "#### Resources\n",
    "\n",
    "+ Information and data sources: http://www.amstat.org/publications/jse/datasets/normtemp.txt, http://www.amstat.org/publications/jse/jse_data_archive.htm\n",
    "+ Markdown syntax: http://nestacms.com/docs/creating-content/markdown-cheat-sheet\n",
    "\n",
    "****"
   ]
  },
  {
   "cell_type": "code",
   "execution_count": 2,
   "metadata": {},
   "outputs": [],
   "source": [
    "import pandas as pd\n",
    "import scipy.stats as stats\n",
    "from statsmodels.graphics.gofplots import qqplot\n",
    "from matplotlib import pyplot\n",
    "import seaborn as sns\n",
    "import numpy as np\n"
   ]
  },
  {
   "cell_type": "code",
   "execution_count": 3,
   "metadata": {},
   "outputs": [],
   "source": [
    "def ecdf(data):\n",
    "    \"\"\"Compute ECDF for a one-dimensional array of measurements.\"\"\"\n",
    "    # Number of data points: n\n",
    "    n = len(data)\n",
    "\n",
    "    # x-data for the ECDF: x\n",
    "    x = np.sort(data)\n",
    "\n",
    "    # y-data for the ECDF: y\n",
    "    y = np.arange(1,n+1) / n\n",
    "\n",
    "    return x, y"
   ]
  },
  {
   "cell_type": "code",
   "execution_count": 4,
   "metadata": {},
   "outputs": [],
   "source": [
    "def bootstrap_replicate_1d(data, func):\n",
    "    return func(np.random.choice(data, size = int(len(data)/2)))"
   ]
  },
  {
   "cell_type": "code",
   "execution_count": 5,
   "metadata": {},
   "outputs": [],
   "source": [
    "def draw_bs_reps(data, func, size=1):\n",
    "    \"\"\"Draw bootstrap replicates.\"\"\"\n",
    "\n",
    "    # Initialize array of replicates: bs_replicates\n",
    "    bs_replicates = np.empty(size)\n",
    "\n",
    "    # Generate replicates\n",
    "    for i in range(size):\n",
    "        bs_replicates[i] = bootstrap_replicate_1d(data,func)\n",
    "\n",
    "    return bs_replicates"
   ]
  },
  {
   "cell_type": "code",
   "execution_count": 6,
   "metadata": {},
   "outputs": [],
   "source": [
    "df = pd.read_csv('data/human_body_temperature.csv')"
   ]
  },
  {
   "cell_type": "markdown",
   "metadata": {},
   "source": [
    "# Is the distribution of body temperatures normal?\n",
    "# Although this is not a requirement for the Central Limit Theorem to hold, it gives us some peace of mind that the population may also be normally distributed if we assume that this sample is representative of the population."
   ]
  },
  {
   "cell_type": "code",
   "execution_count": 7,
   "metadata": {},
   "outputs": [
    {
     "data": {
      "text/plain": [
       "130"
      ]
     },
     "execution_count": 7,
     "metadata": {},
     "output_type": "execute_result"
    }
   ],
   "source": [
    "len(df)"
   ]
  },
  {
   "cell_type": "markdown",
   "metadata": {},
   "source": [
    "### Our sample size is larger than 30, according to the Central Limit Theorem the mean of all samples from the same population will be approximately equal to the mean of the population."
   ]
  },
  {
   "cell_type": "code",
   "execution_count": 10,
   "metadata": {},
   "outputs": [
    {
     "data": {
      "image/png": "[encoded data removed]",
      "text/plain": [
       "<Figure size 432x288 with 1 Axes>"
      ]
     },
     "metadata": {},
     "output_type": "display_data"
    }
   ],
   "source": [
    "pyplot.hist(df['temperature'])\n",
    "pyplot.show()"
   ]
  },
  {
   "cell_type": "markdown",
   "metadata": {},
   "source": [
    "###  The data appears to have a normal distribution, per the above histogram.  However, the plot does not show strong normallity."
   ]
  },
  {
   "cell_type": "code",
   "execution_count": 11,
   "metadata": {},
   "outputs": [
    {
     "data": {
      "image/png": "[encoded data removed]",
      "text/plain": [
       "<Figure size 432x288 with 1 Axes>"
      ]
     },
     "metadata": {},
     "output_type": "display_data"
    }
   ],
   "source": [
    "qqplot(df['temperature'],line='s')\n",
    "pyplot.show()"
   ]
  },
  {
   "cell_type": "markdown",
   "metadata": {},
   "source": [
    "### The data points from our sample, in the above qq plot, are normally distributed. This could indicate the population is normally distributed as well."
   ]
  },
  {
   "cell_type": "code",
   "execution_count": 12,
   "metadata": {},
   "outputs": [
    {
     "name": "stdout",
     "output_type": "stream",
     "text": [
      "Statistics=0.987, p=0.233\n",
      "Sample looks Gaussian (fail to reject H0)\n"
     ]
    }
   ],
   "source": [
    "#Shapiro-Wilk normality test\n",
    "stat, p = stats.shapiro(df['temperature'])\n",
    "print('Statistics=%.3f, p=%.3f' % (stat, p))\n",
    "# interpret\n",
    "alpha = 0.05\n",
    "if p > alpha:\n",
    "\tprint('Sample looks Gaussian (fail to reject H0)')\n",
    "else:\n",
    "\tprint('Sample does not look Gaussian (reject H0)')"
   ]
  },
  {
   "cell_type": "markdown",
   "metadata": {},
   "source": [
    "### Our p-value is not in the rejection region.  We fail to reject the null hypothesis.  (H0: Data is normally distributed)"
   ]
  },
  {
   "cell_type": "code",
   "execution_count": 13,
   "metadata": {},
   "outputs": [
    {
     "data": {
      "image/png": "[encoded data removed]",
      "text/plain": [
       "<Figure size 432x288 with 1 Axes>"
      ]
     },
     "metadata": {},
     "output_type": "display_data"
    }
   ],
   "source": [
    "# Compute ecdf from temperature data\n",
    "ecdf_x,ecdf_y = ecdf(df['temperature'])\n",
    "\n",
    "# Generate plot\n",
    "_ = pyplot.plot(ecdf_x, ecdf_y, marker='.', linestyle='none')\n",
    "\n",
    "# Label the axes\n",
    "_ = pyplot.xlabel('Temperature (Farenheit)')\n",
    "_ = pyplot.ylabel('ECDF')\n",
    "\n",
    "# Display the plot\n",
    "pyplot.show()"
   ]
  },
  {
   "cell_type": "markdown",
   "metadata": {},
   "source": [
    "### The empirical cumulative distribution function of our data reflects that of a normal distribution."
   ]
  },
  {
   "cell_type": "code",
   "execution_count": 14,
   "metadata": {},
   "outputs": [
    {
     "data": {
      "image/png": "[encoded data removed]",
      "text/plain": [
       "<Figure size 432x288 with 1 Axes>"
      ]
     },
     "metadata": {},
     "output_type": "display_data"
    }
   ],
   "source": [
    "for _ in range(50):\n",
    "    # Generate bootstrap sample: bs_sample\n",
    "    bs_sample = np.random.choice(df['temperature'], size=len(df['temperature']))\n",
    "\n",
    "    # Compute and plot ECDF from bootstrap sample\n",
    "    x_bs, y_bs = ecdf(bs_sample)\n",
    "    _ = pyplot.plot(x_bs, y_bs, marker='.', linestyle='none',\n",
    "                 color='gray', alpha=0.1)\n",
    "\n",
    "# Compute and plot ECDF from original data\n",
    "                    \n",
    "x, y = ecdf(df['temperature'])\n",
    "_ = pyplot.plot(x, y, marker='.')\n",
    "\n",
    "# Make margins and label axes\n",
    "pyplot.margins(0.02)\n",
    "_ = pyplot.xlabel('Temperature (Farenheit)')\n",
    "_ = pyplot.ylabel('ECDF')\n",
    "\n",
    "# Show the plot\n",
    "pyplot.show()"
   ]
  },
  {
   "cell_type": "markdown",
   "metadata": {},
   "source": [
    "### After conducting bootstrap samples on the data to generate bootstrap sample ECDF's, the above plot shows the bootstrap samples follow the general trend of the ECDF from the entire sample."
   ]
  },
  {
   "cell_type": "code",
   "execution_count": 15,
   "metadata": {},
   "outputs": [
    {
     "data": {
      "text/plain": [
       "98.24923076923075"
      ]
     },
     "execution_count": 15,
     "metadata": {},
     "output_type": "execute_result"
    }
   ],
   "source": [
    "sample_mean = np.average(df['temperature'])\n",
    "sample_mean\n",
    "\n",
    "#Is the true population mean really 98.6 degrees F?\n",
    "#First, try a bootstrap hypothesis test.\n",
    "#Now, let's try frequentist statistical testing. Would you use a one-sample or two-sample test? Why?\n",
    "#In this situation, is it appropriate to use the  tt  or  zz  statistic?\n",
    "#Now try using the other test. How is the result be different? Why?"
   ]
  },
  {
   "cell_type": "code",
   "execution_count": 16,
   "metadata": {},
   "outputs": [
    {
     "data": {
      "text/plain": [
       "0.7303577789050377"
      ]
     },
     "execution_count": 16,
     "metadata": {},
     "output_type": "execute_result"
    }
   ],
   "source": [
    "sample_std = np.std(df['temperature'])\n",
    "sample_std"
   ]
  },
  {
   "cell_type": "markdown",
   "metadata": {},
   "source": [
    "# Is the true population mean really 98.6 degrees F?\n",
    "### The sample mean is approximately 98.25 degrees F, a difference of 0.35.\n",
    "\n"
   ]
  },
  {
   "cell_type": "markdown",
   "metadata": {},
   "source": [
    "# H0: Mu = 98.6 , Ha: Mu =/= 98.6"
   ]
  },
  {
   "cell_type": "markdown",
   "metadata": {},
   "source": [
    "# First, try a bootstrap hypothesis test\n"
   ]
  },
  {
   "cell_type": "code",
   "execution_count": 17,
   "metadata": {},
   "outputs": [
    {
     "data": {
      "text/plain": [
       "array([98.53076923, 98.62153846, 98.54461538, ..., 98.71846154,\n",
       "       98.55846154, 98.62153846])"
      ]
     },
     "execution_count": 17,
     "metadata": {},
     "output_type": "execute_result"
    }
   ],
   "source": [
    "# Translate the sample mean, 98.25, so it matches the Null Hypothesis of 98.6\n",
    "translated_temp = df['temperature']-sample_mean+98.6\n",
    "np.average(translated_temp)\n",
    "\n",
    "#Draw mean Boot-strap replicates from the translated data\n",
    "bs_replicates = draw_bs_reps(translated_temp, np.mean, 10000)\n",
    "bs_replicates"
   ]
  },
  {
   "cell_type": "code",
   "execution_count": 18,
   "metadata": {},
   "outputs": [
    {
     "data": {
      "text/plain": [
       "0.0"
      ]
     },
     "execution_count": 18,
     "metadata": {},
     "output_type": "execute_result"
    }
   ],
   "source": [
    "p = np.sum(bs_replicates <= np.mean(df['temperature'])) / len(bs_replicates)\n",
    "p"
   ]
  },
  {
   "cell_type": "markdown",
   "metadata": {},
   "source": [
    "### The p-value of 0 suggests that we should reject the Null Hypothesis, H0, that the population mean is 98.6 degrees Farenheit."
   ]
  },
  {
   "cell_type": "markdown",
   "metadata": {},
   "source": [
    "# Now, let's try frequentist statistical testing. Would you use a one-sample or two-sample test? Why?\n",
    "###  One-sample test since we will randomly sample from the population to estimate the population mean body temperature, the two-sample test would be appropriate if we were comparing the mean body temperatures of males and females.\n",
    "\n",
    "# In this situation, is it appropriate to use the  t  or  Z  statistic?\n",
    "### A t-statistic would be appropriate for our test since we don't know the population stadard deviation. **STATS EXCHANGE**\n",
    "\n",
    "\n",
    "# Now try using the other test. How is the result different? Why?\n",
    "### The t statistic below is within the rejection region, giving a p-value close to 0.  So we would reject the null hypothesis, H0, that the population body temperature mean is 98.6 degrees Farenheit.  A Z statistic is the prefered method since we have a sample size of 130.  Using the sample standard deviation we receive a Z statistic that is also in the rejection region and results in a p-value close to 0, so we reject the null hypothesis."
   ]
  },
  {
   "cell_type": "code",
   "execution_count": 19,
   "metadata": {},
   "outputs": [
    {
     "data": {
      "text/plain": [
       "-5.47592520207856"
      ]
     },
     "execution_count": 19,
     "metadata": {},
     "output_type": "execute_result"
    }
   ],
   "source": [
    "t_stat = (sample_mean - 98.6)/(sample_std/(np.sqrt(len(df['temperature']))))\n",
    "t_stat"
   ]
  },
  {
   "cell_type": "code",
   "execution_count": 20,
   "metadata": {},
   "outputs": [
    {
     "data": {
      "text/plain": [
       "-5.47592520207856"
      ]
     },
     "execution_count": 20,
     "metadata": {},
     "output_type": "execute_result"
    }
   ],
   "source": [
    "z_stat = (sample_mean - 98.6)/(sample_std/(np.sqrt(len(df['temperature']))))\n",
    "z_stat"
   ]
  },
  {
   "cell_type": "code",
   "execution_count": 21,
   "metadata": {},
   "outputs": [
    {
     "data": {
      "text/plain": [
       "array([97.2, 97.8, 98.4, 96.7, 97.9, 98.6, 98.5, 98.4, 99.9, 98.6])"
      ]
     },
     "execution_count": 21,
     "metadata": {},
     "output_type": "execute_result"
    }
   ],
   "source": [
    "#Draw a small sample of size 10 from the data and repeat both frequentist tests.\n",
    "small_sample = np.random.choice(df['temperature'],size=10)\n",
    "small_sample"
   ]
  },
  {
   "cell_type": "code",
   "execution_count": 22,
   "metadata": {},
   "outputs": [
    {
     "data": {
      "text/plain": [
       "98.2"
      ]
     },
     "execution_count": 22,
     "metadata": {},
     "output_type": "execute_result"
    }
   ],
   "source": [
    "small_sample_average = np.average(small_sample)\n",
    "small_sample_std = np.std(small_sample)\n",
    "small_sample_average"
   ]
  },
  {
   "cell_type": "code",
   "execution_count": 23,
   "metadata": {},
   "outputs": [
    {
     "data": {
      "text/plain": [
       "-1.5249857033260141"
      ]
     },
     "execution_count": 23,
     "metadata": {},
     "output_type": "execute_result"
    }
   ],
   "source": [
    "stat_small = (small_sample_average - 98.6)/(small_sample_std/(np.sqrt(len(small_sample))))\n",
    "stat_small"
   ]
  },
  {
   "cell_type": "markdown",
   "metadata": {},
   "source": [
    "# Which one is the correct one to use?\n",
    "### Since the sample size is 10, we would prefer to use the t-statistic on the sample.\n",
    "\n",
    "# What do you notice? What does this tell you about the difference in application of the  tt  and  zz  statistic\n",
    "### We do not reject the null hypothesis for either test statistic, however we notice that the p-value for the z-statistic is 0.911 but the p-value for the t-statistic is 0.918"
   ]
  },
  {
   "cell_type": "markdown",
   "metadata": {},
   "source": [
    "# At what temperature should we consider someone's temperature to be \"abnormal\"?\n",
    "\n",
    "\n",
    "# As in the previous example, try calculating everything using the boostrap approach, as well as the frequentist approach.\n",
    "\n",
    "# Start by computing the margin of error and confidence interval. When calculating the confidence interval, keep in mind that you should use the appropriate formula for one draw, and not N draws."
   ]
  },
  {
   "cell_type": "code",
   "execution_count": 32,
   "metadata": {},
   "outputs": [
    {
     "name": "stdout",
     "output_type": "stream",
     "text": [
      "95% confidence interval = [98.07076923 98.42615385] Degrees Farenheit\n",
      "99% confidence interval = [98.01076923 98.48616154] Degrees Farenheit\n"
     ]
    },
    {
     "name": "stderr",
     "output_type": "stream",
     "text": [
      "C:\\Users\\Ronak\\Anaconda3\\lib\\site-packages\\matplotlib\\axes\\_axes.py:6462: UserWarning: The 'normed' kwarg is deprecated, and has been replaced by the 'density' kwarg.\n",
      "  warnings.warn(\"The 'normed' kwarg is deprecated, and has been \"\n"
     ]
    },
    {
     "data": {
      "image/png": "[encoded data removed]",
      "text/plain": [
       "<Figure size 432x288 with 1 Axes>"
      ]
     },
     "metadata": {},
     "output_type": "display_data"
    }
   ],
   "source": [
    "# Draw bootstrap replicates of the mean Body Temps.\n",
    "bs_reps = draw_bs_reps(df['temperature'],np.mean,size=10000)\n",
    "\n",
    "# Compute the 95% and 99% confidence interval: conf_int\n",
    "conf_int95 = np.percentile(bs_reps,[2.5,97.5])\n",
    "conf_int99 = np.percentile(bs_reps,[.5,99.5])\n",
    "# Print the confidence interval\n",
    "print('95% confidence interval =', conf_int95, 'Degrees Farenheit')\n",
    "print('99% confidence interval =', conf_int99, 'Degrees Farenheit')\n",
    "# Plot the histogram of the replicates\n",
    "_ = pyplot.hist(bs_reps, bins=50, normed=True)\n",
    "_ = pyplot.xlabel('Degrees Farenheit')\n",
    "_ = pyplot.ylabel('PDF')\n",
    "\n",
    "# Show the plot\n",
    "pyplot.show()"
   ]
  },
  {
   "cell_type": "code",
   "execution_count": 25,
   "metadata": {},
   "outputs": [
    {
     "data": {
      "text/plain": [
       "<matplotlib.axes._subplots.AxesSubplot at 0x2137d090f60>"
      ]
     },
     "execution_count": 25,
     "metadata": {},
     "output_type": "execute_result"
    },
    {
     "data": {
      "image/png": "[encoded data removed]",
      "text/plain": [
       "<Figure size 432x288 with 1 Axes>"
      ]
     },
     "metadata": {},
     "output_type": "display_data"
    }
   ],
   "source": [
    "sns.swarmplot(x='gender',y='temperature',data=df)"
   ]
  },
  {
   "cell_type": "markdown",
   "metadata": {},
   "source": [
    "### The distribution of temperatures appears to have a higher variance among Females compared to Males."
   ]
  },
  {
   "cell_type": "markdown",
   "metadata": {},
   "source": [
    "### H0: Male Body Temperature Mean = Female Body Temperature Mean\n",
    "### Ha: Male Body Temperature Mean =/= Female Body Temperature Mean"
   ]
  },
  {
   "cell_type": "code",
   "execution_count": 26,
   "metadata": {},
   "outputs": [
    {
     "data": {
      "text/plain": [
       "numpy.ndarray"
      ]
     },
     "execution_count": 26,
     "metadata": {},
     "output_type": "execute_result"
    }
   ],
   "source": [
    "#Seperate male frome female dataset\n",
    "female_data = df[df['gender']=='F']\n",
    "male_data = df[df['gender']=='M']\n",
    "type(np.array(male_data['temperature']))"
   ]
  },
  {
   "cell_type": "code",
   "execution_count": 27,
   "metadata": {},
   "outputs": [
    {
     "name": "stdout",
     "output_type": "stream",
     "text": [
      "Male Sample Mean = 98.10461538461537 Degrees Farenheit\n",
      "Female Sample Mean = 98.39384615384614 Degrees Farenheit\n",
      "Male Sample standard deviation = 0.6933598841828696\n",
      "Female Sample standard deviation = 0.7377464486428966\n"
     ]
    }
   ],
   "source": [
    "male_sample_mean = np.average(male_data['temperature'])\n",
    "female_sample_mean = np.average(female_data['temperature'])\n",
    "male_sample_std = np.std(male_data['temperature'])\n",
    "female_sample_std = np.std(female_data['temperature'])\n",
    "\n",
    "print('Male Sample Mean =', male_sample_mean, 'Degrees Farenheit')\n",
    "print('Female Sample Mean =', female_sample_mean, 'Degrees Farenheit')\n",
    "print('Male Sample standard deviation =', male_sample_std)\n",
    "print('Female Sample standard deviation =', female_sample_std)"
   ]
  },
  {
   "cell_type": "code",
   "execution_count": 28,
   "metadata": {},
   "outputs": [
    {
     "name": "stdout",
     "output_type": "stream",
     "text": [
      "p-value = 0.0556\n"
     ]
    }
   ],
   "source": [
    "# Compute difference of mean impact force from experiment: empirical_diff_means\n",
    "diff_of_means = female_sample_mean - male_sample_mean\n",
    "\n",
    "#Shift the mean of the two seperate arrays to both equal the full sample mean\n",
    "shifted_female_data = female_data['temperature'] - female_sample_mean + sample_mean\n",
    "shifted_male_data = male_data['temperature'] - male_sample_mean + sample_mean\n",
    "\n",
    "# Generate bootstrap mean replicates and compute difference of mean:\n",
    "male_bs_samples = draw_bs_reps(shifted_male_data,np.mean,size=10000)\n",
    "female_bs_samples = draw_bs_reps(shifted_female_data,np.mean,size=10000)\n",
    "diff_bs = female_bs_samples - male_bs_samples\n",
    "\n",
    "# Compute and print p-value: p\n",
    "p = np.sum(diff_bs>=diff_of_means) / len(diff_bs)\n",
    "print('p-value =', p)"
   ]
  },
  {
   "cell_type": "markdown",
   "metadata": {},
   "source": [
    "# Is there a significant difference between males and females in normal temperature?\n",
    "### There is a slightly higher variation and mean for the female sample when compared to the male sample.\n",
    "\n",
    "# What testing approach did you use and why?\n",
    "### The bee swarm plot above visibly shows the increased variation among the female data points.\n",
    "\n",
    "### The difference between the mean of the two samples was approximately 0.289, we first create two Temperature data sets seperated into two groups, Males and Females.  Transform both data sets to have the same mean, the mean of the entire sample (Males+Females). Using the two transformed data sets take multiple bootstrap samples from the respective data set, calculate the mean of each of the samplings. Calculate the difference of mean by taking each bootstrap mean value from the Female sample and subtracting from each mean value from the Male sample.  Calculate the p-value by finding the ratio of mean differences from our bootstrap sample that has a greater difference than the mean difference from our actual sample.  We obtain a p-value of approximately 0.053, which is close to our rejection region since we are using an alpha of 0.05, however, since the p-value is not in the rejection region, we do not reject the Null Hypothesis.  This does not negate the possiblity of the null hypothesis being incorrect that the two have the same mean.\n",
    "\n",
    "# Write a story with your conclusion in the context of the original problem.\n",
    "### We found that the temperature data is normally distributed, the sample size is large (130).  The data was a random sampling so the body temperatures of the participants is independent.\n",
    "### According to the hypothesis tests performed on the sample data, we find a significant p-value, which results in a rejection of the null hypothesis.  The hypothesis tests indicate the true population mean of 98.6 should be re-evaluated.\n",
    "### There is also a noticeable difference in variation and mean between body temperatures between males and females.  However, there was not sufficient evidence to reject the null hypothesis that the two genders have the same mean."
   ]
  }
 ],
 "metadata": {
  "kernelspec": {
   "display_name": "Python 3",
   "language": "python",
   "name": "python3"
  },
  "language_info": {
   "codemirror_mode": {
    "name": "ipython",
    "version": 3
   },
   "file_extension": ".py",
   "mimetype": "text/x-python",
   "name": "python",
   "nbconvert_exporter": "python",
   "pygments_lexer": "ipython3",
   "version": "3.6.5"
  }
 },
 "nbformat": 4,
 "nbformat_minor": 1
}
